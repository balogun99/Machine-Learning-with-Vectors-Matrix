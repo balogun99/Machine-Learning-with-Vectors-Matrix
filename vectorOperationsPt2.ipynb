{
 "cells": [
  {
   "cell_type": "markdown",
   "metadata": {},
   "source": [
    "# Import numpy library"
   ]
  },
  {
   "cell_type": "code",
   "execution_count": 11,
   "metadata": {},
   "outputs": [],
   "source": [
    "import numpy as np"
   ]
  },
  {
   "cell_type": "markdown",
   "metadata": {},
   "source": [
    "# Dot Products of 2 Vectors"
   ]
  },
  {
   "cell_type": "code",
   "execution_count": 12,
   "metadata": {},
   "outputs": [],
   "source": [
    "a = np.array([2,3])\n",
    "b = np.array([4,4])\n",
    "\n",
    "a_dot_b = np.dot(a,b)"
   ]
  },
  {
   "cell_type": "code",
   "execution_count": 13,
   "metadata": {},
   "outputs": [
    {
     "name": "stdout",
     "output_type": "stream",
     "text": [
      "20\n"
     ]
    }
   ],
   "source": [
    "print(a_dot_b)"
   ]
  },
  {
   "cell_type": "code",
   "execution_count": 14,
   "metadata": {},
   "outputs": [],
   "source": [
    "c = np.array([40,20,35])\n",
    "d = np.array([53,24,68]) # ijk\n",
    "\n",
    "c_dot_d = np.dot(c,d)"
   ]
  },
  {
   "cell_type": "code",
   "execution_count": 15,
   "metadata": {},
   "outputs": [
    {
     "name": "stdout",
     "output_type": "stream",
     "text": [
      "4980\n"
     ]
    }
   ],
   "source": [
    "print(c_dot_d)"
   ]
  },
  {
   "cell_type": "markdown",
   "metadata": {},
   "source": [
    "# Cross Product of Two(2) Vectors"
   ]
  },
  {
   "cell_type": "code",
   "execution_count": 16,
   "metadata": {},
   "outputs": [],
   "source": [
    "a = np.array([2,3])\n",
    "b = np.array([4,4])\n",
    "\n",
    "a_cross_b = np.cross(a,b)"
   ]
  },
  {
   "cell_type": "code",
   "execution_count": 17,
   "metadata": {},
   "outputs": [
    {
     "name": "stdout",
     "output_type": "stream",
     "text": [
      "-4\n"
     ]
    }
   ],
   "source": [
    "print(a_cross_b)"
   ]
  },
  {
   "cell_type": "code",
   "execution_count": 18,
   "metadata": {},
   "outputs": [],
   "source": [
    "c = np.array([5,10,20])\n",
    "d = np.array([10,32,50])\n",
    "\n",
    "c_dot_d = np.cross(c,d)"
   ]
  },
  {
   "cell_type": "code",
   "execution_count": 19,
   "metadata": {},
   "outputs": [
    {
     "name": "stdout",
     "output_type": "stream",
     "text": [
      "[-140  -50   60]\n"
     ]
    }
   ],
   "source": [
    "print(c_dot_d)"
   ]
  },
  {
   "cell_type": "markdown",
   "metadata": {},
   "source": [
    "# Projection of \"a\" vector on \"v\" vector"
   ]
  },
  {
   "cell_type": "markdown",
   "metadata": {},
   "source": [
    "Projva = a.v/||v||2"
   ]
  },
  {
   "cell_type": "code",
   "execution_count": 21,
   "metadata": {},
   "outputs": [
    {
     "name": "stdout",
     "output_type": "stream",
     "text": [
      "The projection of a vector on v [-1.12  0.84]\n"
     ]
    }
   ],
   "source": [
    "a = np.array([2,5])\n",
    "v = np.array([8, -6])\n",
    "\n",
    "# magnitude of \"v\" vector\n",
    "magnitude_of_v = np.sqrt(sum(v**2))\n",
    "projection_of_a_on_v = (np.dot(a,v)/magnitude_of_v**2)*v\n",
    "\n",
    "print(\"The projection of a vector on v\", projection_of_a_on_v)"
   ]
  },
  {
   "cell_type": "code",
   "execution_count": 22,
   "metadata": {},
   "outputs": [
    {
     "name": "stdout",
     "output_type": "stream",
     "text": [
      "The projection of a vector on v [30.18242937 54.99909352 44.93828373]\n"
     ]
    }
   ],
   "source": [
    "a = np.array([23,45,62])\n",
    "v = np.array([45,82,67])\n",
    "\n",
    "# magnitude of \"v\" vector\n",
    "magnitude_of_v = np.sqrt(sum(v**2))\n",
    "projection_of_a_on_v = (np.dot(a,v)/magnitude_of_v**2)*v\n",
    "\n",
    "print(\"The projection of a vector on v\", projection_of_a_on_v)"
   ]
  },
  {
   "cell_type": "code",
   "execution_count": null,
   "metadata": {},
   "outputs": [],
   "source": []
  }
 ],
 "metadata": {
  "kernelspec": {
   "display_name": "base",
   "language": "python",
   "name": "python3"
  },
  "language_info": {
   "codemirror_mode": {
    "name": "ipython",
    "version": 3
   },
   "file_extension": ".py",
   "mimetype": "text/x-python",
   "name": "python",
   "nbconvert_exporter": "python",
   "pygments_lexer": "ipython3",
   "version": "3.11.7"
  }
 },
 "nbformat": 4,
 "nbformat_minor": 2
}
